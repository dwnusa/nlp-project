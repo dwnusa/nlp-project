{
 "cells": [
  {
   "cell_type": "markdown",
   "metadata": {},
   "source": [
    "# tf.data"
   ]
  },
  {
   "cell_type": "code",
   "execution_count": 1,
   "metadata": {},
   "outputs": [],
   "source": [
    "import os\n",
    "import tensorflow as tf #텐서플로우 모듈 불러오기\n",
    "import numpy as np\n",
    "\n",
    "from tensorflow.keras import preprocessing"
   ]
  },
  {
   "cell_type": "code",
   "execution_count": 2,
   "metadata": {},
   "outputs": [],
   "source": [
    "samples = ['너 오늘 이뻐 보인다', \n",
    "           '나는 오늘 기분이 더러워', \n",
    "           '끝내주는데, 좋은 일이 있나봐', \n",
    "           '나 좋은 일이 생겼어', \n",
    "           '아 오늘 진짜 짜증나', \n",
    "           '환상적인데, 정말 좋은거 같아']\n",
    "\n",
    "label = [[1], [0], [1], [1], [0], [1]]"
   ]
  },
  {
   "cell_type": "code",
   "execution_count": 3,
   "metadata": {},
   "outputs": [],
   "source": [
    "MAX_LEN = 4"
   ]
  },
  {
   "cell_type": "code",
   "execution_count": 6,
   "metadata": {},
   "outputs": [],
   "source": [
    "tokenizer = preprocessing.text.Tokenizer()\n",
    "tokenizer.fit_on_texts(samples)\n",
    "sequences = tokenizer.texts_to_sequences(samples)\n",
    "\n",
    "sequences = preprocessing.sequence.pad_sequences(sequences, maxlen=MAX_LEN, padding='post')\n",
    "\n",
    "word_index = tokenizer.word_index"
   ]
  },
  {
   "cell_type": "code",
   "execution_count": 9,
   "metadata": {},
   "outputs": [
    {
     "name": "stdout",
     "output_type": "stream",
     "text": [
      "수치화된 텍스트 데이터: \n",
      " [[ 4  1  5  6]\n",
      " [ 7  1  8  9]\n",
      " [10  2  3 11]\n",
      " [12  2  3 13]\n",
      " [14  1 15 16]\n",
      " [17 18 19 20]]\n",
      "각 단어의 인덱스: \n",
      " {'오늘': 1, '좋은': 2, '일이': 3, '너': 4, '이뻐': 5, '보인다': 6, '나는': 7, '기분이': 8, '더러워': 9, '끝내주는데': 10, '있나봐': 11, '나': 12, '생겼어': 13, '아': 14, '진짜': 15, '짜증나': 16, '환상적인데': 17, '정말': 18, '좋은거': 19, '같아': 20}\n",
      "라벨:  [[1], [0], [1], [1], [0], [1]]\n"
     ]
    }
   ],
   "source": [
    "print(\"수치화된 텍스트 데이터: \\n\",sequences)\n",
    "print(\"각 단어의 인덱스: \\n\", word_index) \n",
    "print(\"라벨: \", label) "
   ]
  },
  {
   "cell_type": "code",
   "execution_count": 44,
   "metadata": {},
   "outputs": [],
   "source": [
    "dataset = tf.data.Dataset.from_tensor_slices((sequences, label))\n",
    "iterator = dataset.make_one_shot_iterator()\n",
    "next_data = iterator.get_next()"
   ]
  },
  {
   "cell_type": "code",
   "execution_count": 45,
   "metadata": {},
   "outputs": [
    {
     "name": "stdout",
     "output_type": "stream",
     "text": [
      "Variable        Type                  Data/Info\n",
      "-----------------------------------------------\n",
      "MAX_LEN         int                   4\n",
      "dataset         TensorSliceDataset    <TensorSliceDataset shape<...>es: (tf.int32, tf.int32)>\n",
      "iterator        Iterator              <tensorflow.python.data.o<...>object at 0x7f4f75b2a198>\n",
      "label           list                  n=6\n",
      "next_data       tuple                 n=2\n",
      "np              module                <module 'numpy' from '/op<...>kages/numpy/__init__.py'>\n",
      "os              module                <module 'os' from '/opt/c<...>nda/lib/python3.6/os.py'>\n",
      "preprocessing   module                <module 'tensorflow.keras<...>eprocessing/__init__.py'>\n",
      "samples         list                  n=6\n",
      "sequences       ndarray               6x4: 24 elems, type `int32`, 96 bytes\n",
      "tf              module                <module 'tensorflow' from<...>/tensorflow/__init__.py'>\n",
      "tokenizer       Tokenizer             <tensorflow.python.keras.<...>object at 0x7f4f7d4ba2b0>\n",
      "word_index      dict                  n=20\n"
     ]
    }
   ],
   "source": [
    "whos"
   ]
  },
  {
   "cell_type": "code",
   "execution_count": 43,
   "metadata": {},
   "outputs": [
    {
     "name": "stdout",
     "output_type": "stream",
     "text": [
      "sess is not exist\n"
     ]
    },
    {
     "ename": "NameError",
     "evalue": "name 'whos' is not defined",
     "output_type": "error",
     "traceback": [
      "\u001b[0;31m---------------------------------------------------------------------------\u001b[0m",
      "\u001b[0;31mNameError\u001b[0m                                 Traceback (most recent call last)",
      "\u001b[0;32m<ipython-input-43-cb5b60f377ef>\u001b[0m in \u001b[0;36m<module>\u001b[0;34m\u001b[0m\n\u001b[1;32m      7\u001b[0m \u001b[0;32mexcept\u001b[0m\u001b[0;34m:\u001b[0m\u001b[0;34m\u001b[0m\u001b[0m\n\u001b[1;32m      8\u001b[0m     \u001b[0mprint\u001b[0m\u001b[0;34m(\u001b[0m\u001b[0;34m\"all done\"\u001b[0m\u001b[0;34m)\u001b[0m\u001b[0;34m\u001b[0m\u001b[0m\n\u001b[0;32m----> 9\u001b[0;31m \u001b[0mwhos\u001b[0m\u001b[0;34m\u001b[0m\u001b[0m\n\u001b[0m",
      "\u001b[0;31mNameError\u001b[0m: name 'whos' is not defined"
     ]
    }
   ],
   "source": [
    "try:\n",
    "    del sess \n",
    "except:\n",
    "    print(\"sess is not exist\")\n",
    "try:\n",
    "    del sess1\n",
    "except:\n",
    "    print(\"all done\")\n"
   ]
  },
  {
   "cell_type": "code",
   "execution_count": 46,
   "metadata": {},
   "outputs": [
    {
     "name": "stdout",
     "output_type": "stream",
     "text": [
      "<tensorflow.python.data.ops.iterator_ops.Iterator object at 0x7f4f75b2a198>\n",
      "(<tf.Tensor 'IteratorGetNext_3:0' shape=(4,) dtype=int32>, <tf.Tensor 'IteratorGetNext_3:1' shape=(1,) dtype=int32>)\n",
      "(<tf.Tensor 'IteratorGetNext_3:0' shape=(4,) dtype=int32>, <tf.Tensor 'IteratorGetNext_3:1' shape=(1,) dtype=int32>)\n",
      "(array([4, 1, 5, 6], dtype=int32), array([1], dtype=int32))\n",
      "(array([4, 1, 5, 6], dtype=int32), array([1], dtype=int32))\n",
      "(array([4, 1, 5, 6], dtype=int32), array([1], dtype=int32))\n",
      "(array([4, 1, 5, 6], dtype=int32), array([1], dtype=int32))\n",
      "(array([7, 1, 8, 9], dtype=int32), array([0], dtype=int32))\n",
      "(array([10,  2,  3, 11], dtype=int32), array([1], dtype=int32))\n",
      "(array([4, 1, 5, 6], dtype=int32), array([1], dtype=int32))\n",
      "(array([7, 1, 8, 9], dtype=int32), array([0], dtype=int32))\n",
      "(array([10,  2,  3, 11], dtype=int32), array([1], dtype=int32))\n"
     ]
    }
   ],
   "source": [
    "print(iterator)\n",
    "print(next_data)\n",
    "print(next_data)\n",
    "print(tf.Session().run(next_data))\n",
    "print(tf.Session().run(next_data))\n",
    "print(tf.Session().run(next_data))\n",
    "\n",
    "sess = tf.Session()\n",
    "print(sess.run(next_data))\n",
    "print(sess.run(next_data))\n",
    "print(sess.run(next_data))\n",
    "\n",
    "sess1 = tf.Session()\n",
    "print(sess1.run(next_data))\n",
    "print(sess1.run(next_data))\n",
    "print(sess1.run(next_data))"
   ]
  },
  {
   "cell_type": "code",
   "execution_count": 47,
   "metadata": {},
   "outputs": [
    {
     "name": "stdout",
     "output_type": "stream",
     "text": [
      "(array([4, 1, 5, 6], dtype=int32), array([1], dtype=int32))\n",
      "(array([7, 1, 8, 9], dtype=int32), array([0], dtype=int32))\n",
      "(array([10,  2,  3, 11], dtype=int32), array([1], dtype=int32))\n",
      "(array([12,  2,  3, 13], dtype=int32), array([1], dtype=int32))\n",
      "(array([14,  1, 15, 16], dtype=int32), array([0], dtype=int32))\n",
      "(array([17, 18, 19, 20], dtype=int32), array([1], dtype=int32))\n"
     ]
    }
   ],
   "source": [
    "with tf.Session() as sess:\n",
    "    while True:\n",
    "        try:\n",
    "            print(sess.run(next_data))\n",
    "        except tf.errors.OutOfRangeError:\n",
    "            break"
   ]
  },
  {
   "cell_type": "code",
   "execution_count": 49,
   "metadata": {},
   "outputs": [],
   "source": [
    "BATCH_SIZE = 2\n",
    "\n",
    "dataset = tf.data.Dataset.from_tensor_slices((sequences, label))\n",
    "dataset = dataset.batch(BATCH_SIZE)\n",
    "iterator = dataset.make_one_shot_iterator()\n",
    "next_data = iterator.get_next()"
   ]
  },
  {
   "cell_type": "code",
   "execution_count": 50,
   "metadata": {},
   "outputs": [
    {
     "name": "stdout",
     "output_type": "stream",
     "text": [
      "(array([[4, 1, 5, 6],\n",
      "       [7, 1, 8, 9]], dtype=int32), array([[1],\n",
      "       [0]], dtype=int32))\n",
      "(array([[10,  2,  3, 11],\n",
      "       [12,  2,  3, 13]], dtype=int32), array([[1],\n",
      "       [1]], dtype=int32))\n",
      "(array([[14,  1, 15, 16],\n",
      "       [17, 18, 19, 20]], dtype=int32), array([[0],\n",
      "       [1]], dtype=int32))\n"
     ]
    }
   ],
   "source": [
    "with tf.Session() as sess:\n",
    "    while True:\n",
    "        try:\n",
    "            print(sess.run(next_data))\n",
    "        except tf.errors.OutOfRangeError:\n",
    "            break"
   ]
  },
  {
   "cell_type": "code",
   "execution_count": 51,
   "metadata": {},
   "outputs": [],
   "source": [
    "dataset = tf.data.Dataset.from_tensor_slices((sequences, label))\n",
    "dataset = dataset.shuffle(len(sequences))\n",
    "iterator = dataset.make_one_shot_iterator()\n",
    "next_data = iterator.get_next()"
   ]
  },
  {
   "cell_type": "code",
   "execution_count": 52,
   "metadata": {},
   "outputs": [
    {
     "name": "stdout",
     "output_type": "stream",
     "text": [
      "(array([4, 1, 5, 6], dtype=int32), array([1], dtype=int32))\n",
      "(array([17, 18, 19, 20], dtype=int32), array([1], dtype=int32))\n",
      "(array([10,  2,  3, 11], dtype=int32), array([1], dtype=int32))\n",
      "(array([14,  1, 15, 16], dtype=int32), array([0], dtype=int32))\n",
      "(array([12,  2,  3, 13], dtype=int32), array([1], dtype=int32))\n",
      "(array([7, 1, 8, 9], dtype=int32), array([0], dtype=int32))\n"
     ]
    }
   ],
   "source": [
    "with tf.Session() as sess:\n",
    "    while True:\n",
    "        try:\n",
    "            print(sess.run(next_data))\n",
    "        except tf.errors.OutOfRangeError:\n",
    "            break"
   ]
  },
  {
   "cell_type": "code",
   "execution_count": 53,
   "metadata": {},
   "outputs": [],
   "source": [
    "EPOCH = 2\n",
    "\n",
    "dataset = tf.data.Dataset.from_tensor_slices((sequences, label))\n",
    "dataset = dataset.repeat(EPOCH)\n",
    "iterator = dataset.make_one_shot_iterator()\n",
    "next_data = iterator.get_next()"
   ]
  },
  {
   "cell_type": "code",
   "execution_count": 54,
   "metadata": {},
   "outputs": [
    {
     "name": "stdout",
     "output_type": "stream",
     "text": [
      "(array([4, 1, 5, 6], dtype=int32), array([1], dtype=int32))\n",
      "(array([7, 1, 8, 9], dtype=int32), array([0], dtype=int32))\n",
      "(array([10,  2,  3, 11], dtype=int32), array([1], dtype=int32))\n",
      "(array([12,  2,  3, 13], dtype=int32), array([1], dtype=int32))\n",
      "(array([14,  1, 15, 16], dtype=int32), array([0], dtype=int32))\n",
      "(array([17, 18, 19, 20], dtype=int32), array([1], dtype=int32))\n",
      "(array([4, 1, 5, 6], dtype=int32), array([1], dtype=int32))\n",
      "(array([7, 1, 8, 9], dtype=int32), array([0], dtype=int32))\n",
      "(array([10,  2,  3, 11], dtype=int32), array([1], dtype=int32))\n",
      "(array([12,  2,  3, 13], dtype=int32), array([1], dtype=int32))\n",
      "(array([14,  1, 15, 16], dtype=int32), array([0], dtype=int32))\n",
      "(array([17, 18, 19, 20], dtype=int32), array([1], dtype=int32))\n"
     ]
    }
   ],
   "source": [
    "with tf.Session() as sess:\n",
    "    while True:\n",
    "        try:\n",
    "            print(sess.run(next_data))\n",
    "        except tf.errors.OutOfRangeError:\n",
    "            break"
   ]
  },
  {
   "cell_type": "code",
   "execution_count": 55,
   "metadata": {},
   "outputs": [],
   "source": [
    "def mapping_fn(X, Y=None):\n",
    "    input = {'x': X}\n",
    "    label = Y\n",
    "    return input, label"
   ]
  },
  {
   "cell_type": "code",
   "execution_count": 56,
   "metadata": {},
   "outputs": [],
   "source": [
    "dataset = tf.data.Dataset.from_tensor_slices((sequences, label))\n",
    "dataset = dataset.map(mapping_fn)\n",
    "iterator = dataset.make_one_shot_iterator()\n",
    "next_data = iterator.get_next()"
   ]
  },
  {
   "cell_type": "code",
   "execution_count": 57,
   "metadata": {},
   "outputs": [
    {
     "name": "stdout",
     "output_type": "stream",
     "text": [
      "({'x': array([4, 1, 5, 6], dtype=int32)}, array([1], dtype=int32))\n",
      "({'x': array([7, 1, 8, 9], dtype=int32)}, array([0], dtype=int32))\n",
      "({'x': array([10,  2,  3, 11], dtype=int32)}, array([1], dtype=int32))\n",
      "({'x': array([12,  2,  3, 13], dtype=int32)}, array([1], dtype=int32))\n",
      "({'x': array([14,  1, 15, 16], dtype=int32)}, array([0], dtype=int32))\n",
      "({'x': array([17, 18, 19, 20], dtype=int32)}, array([1], dtype=int32))\n"
     ]
    }
   ],
   "source": [
    "with tf.Session() as sess:\n",
    "    while True:\n",
    "        try:\n",
    "            print(sess.run(next_data))\n",
    "        except tf.errors.OutOfRangeError:\n",
    "            break"
   ]
  },
  {
   "cell_type": "code",
   "execution_count": 58,
   "metadata": {},
   "outputs": [],
   "source": [
    "dataset = tf.data.Dataset.from_tensor_slices((sequences, label))\n",
    "dataset = dataset.map(mapping_fn)\n",
    "dataset = dataset.shuffle(len(sequences))\n",
    "dataset = dataset.batch(BATCH_SIZE) \n",
    "iterator = dataset.make_one_shot_iterator()\n",
    "next_data = iterator.get_next()"
   ]
  },
  {
   "cell_type": "code",
   "execution_count": 59,
   "metadata": {},
   "outputs": [
    {
     "name": "stdout",
     "output_type": "stream",
     "text": [
      "({'x': array([[12,  2,  3, 13],\n",
      "       [ 7,  1,  8,  9]], dtype=int32)}, array([[1],\n",
      "       [0]], dtype=int32))\n",
      "({'x': array([[14,  1, 15, 16],\n",
      "       [ 4,  1,  5,  6]], dtype=int32)}, array([[0],\n",
      "       [1]], dtype=int32))\n",
      "({'x': array([[17, 18, 19, 20],\n",
      "       [10,  2,  3, 11]], dtype=int32)}, array([[1],\n",
      "       [1]], dtype=int32))\n"
     ]
    }
   ],
   "source": [
    "with tf.Session() as sess:\n",
    "    while True:\n",
    "        try:\n",
    "            print(sess.run(next_data))\n",
    "        except tf.errors.OutOfRangeError:\n",
    "            break"
   ]
  },
  {
   "cell_type": "code",
   "execution_count": 60,
   "metadata": {},
   "outputs": [
    {
     "name": "stdout",
     "output_type": "stream",
     "text": [
      "({'x': array([[7, 1, 8, 9],\n",
      "       [4, 1, 5, 6]], dtype=int32)}, array([[0],\n",
      "       [1]], dtype=int32))\n",
      "({'x': array([[10,  2,  3, 11],\n",
      "       [12,  2,  3, 13]], dtype=int32)}, array([[1],\n",
      "       [1]], dtype=int32))\n",
      "({'x': array([[17, 18, 19, 20],\n",
      "       [14,  1, 15, 16]], dtype=int32)}, array([[1],\n",
      "       [0]], dtype=int32))\n",
      "({'x': array([[ 7,  1,  8,  9],\n",
      "       [12,  2,  3, 13]], dtype=int32)}, array([[0],\n",
      "       [1]], dtype=int32))\n",
      "({'x': array([[17, 18, 19, 20],\n",
      "       [14,  1, 15, 16]], dtype=int32)}, array([[1],\n",
      "       [0]], dtype=int32))\n",
      "({'x': array([[ 4,  1,  5,  6],\n",
      "       [10,  2,  3, 11]], dtype=int32)}, array([[1],\n",
      "       [1]], dtype=int32))\n"
     ]
    }
   ],
   "source": [
    "BATCH_SIZE = 2\n",
    "EPOCH = 2\n",
    "\n",
    "def mapping_fn(X, Y=None):\n",
    "    input = {'x': X}\n",
    "    label = Y\n",
    "    return input, label\n",
    "\n",
    "dataset = tf.data.Dataset.from_tensor_slices((sequences, label))\n",
    "dataset = dataset.map(mapping_fn)\n",
    "dataset = dataset.shuffle(len(sequences))\n",
    "dataset = dataset.batch(BATCH_SIZE) \n",
    "dataset = dataset.repeat(EPOCH)\n",
    "iterator = dataset.make_one_shot_iterator()\n",
    "next_data = iterator.get_next()\n",
    "\n",
    "with tf.Session() as sess:\n",
    "    while True:\n",
    "        try:\n",
    "            print(sess.run(next_data))\n",
    "        except tf.errors.OutOfRangeError:\n",
    "            break"
   ]
  },
  {
   "cell_type": "code",
   "execution_count": null,
   "metadata": {},
   "outputs": [],
   "source": []
  }
 ],
 "metadata": {
  "kernelspec": {
   "display_name": "Python 3",
   "language": "python",
   "name": "python3"
  },
  "language_info": {
   "codemirror_mode": {
    "name": "ipython",
    "version": 3
   },
   "file_extension": ".py",
   "mimetype": "text/x-python",
   "name": "python",
   "nbconvert_exporter": "python",
   "pygments_lexer": "ipython3",
   "version": "3.6.2"
  }
 },
 "nbformat": 4,
 "nbformat_minor": 2
}
